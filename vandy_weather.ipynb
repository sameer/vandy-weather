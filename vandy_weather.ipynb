{
  "nbformat": 4,
  "nbformat_minor": 0,
  "metadata": {
    "colab": {
      "name": "vandy-weather.ipynb",
      "provenance": [],
      "collapsed_sections": []
    },
    "kernelspec": {
      "name": "python3",
      "display_name": "Python 3"
    },
    "accelerator": "GPU"
  },
  "cells": [
    {
      "cell_type": "code",
      "execution_count": 1,
      "metadata": {
        "colab": {
          "base_uri": "https://localhost:8080/",
          "height": 850
        },
        "colab_type": "code",
        "id": "dykiklSz6h3x",
        "outputId": "6e1cdcdb-4dcb-499b-cf31-306bf1c7dd15"
      },
      "outputs": [
        {
          "name": "stdout",
          "output_type": "stream",
          "text": [
            "Wed Nov 13 05:42:22 2019       \n",
            "+-----------------------------------------------------------------------------+\n",
            "| NVIDIA-SMI 430.50       Driver Version: 418.67       CUDA Version: 10.1     |\n",
            "|-------------------------------+----------------------+----------------------+\n",
            "| GPU  Name        Persistence-M| Bus-Id        Disp.A | Volatile Uncorr. ECC |\n",
            "| Fan  Temp  Perf  Pwr:Usage/Cap|         Memory-Usage | GPU-Util  Compute M. |\n",
            "|===============================+======================+======================|\n",
            "|   0  Tesla K80           Off  | 00000000:00:04.0 Off |                    0 |\n",
            "| N/A   56C    P8    29W / 149W |      0MiB / 11441MiB |      0%      Default |\n",
            "+-------------------------------+----------------------+----------------------+\n",
            "                                                                               \n",
            "+-----------------------------------------------------------------------------+\n",
            "| Processes:                                                       GPU Memory |\n",
            "|  GPU       PID   Type   Process name                             Usage      |\n",
            "|=============================================================================|\n",
            "|  No running processes found                                                 |\n",
            "+-----------------------------------------------------------------------------+\n",
            "stat: cannot stat 'vandy-weather': No such file or directory\n",
            "Cloning into 'vandy-weather'...\n",
            "remote: Enumerating objects: 100, done.\u001b[K\n",
            "remote: Counting objects: 100% (100/100), done.\u001b[K\n",
            "remote: Compressing objects: 100% (69/69), done.\u001b[K\n",
            "remote: Total 100 (delta 57), reused 73 (delta 30), pack-reused 0\u001b[K\n",
            "Receiving objects: 100% (100/100), 17.70 MiB | 15.99 MiB/s, done.\n",
            "Resolving deltas: 100% (57/57), done.\n",
            "stat: cannot stat 'torch_reinstalled': No such file or directory\n",
            "Collecting torch==1.3.1+cu100\n",
            "\u001b[?25l  Downloading https://download.pytorch.org/whl/cu100/torch-1.3.1%2Bcu100-cp36-cp36m-linux_x86_64.whl (705.3MB)\n",
            "\u001b[K     |████████████████████████████████| 705.3MB 25kB/s \n",
            "\u001b[?25hCollecting numpy\n",
            "\u001b[?25l  Downloading https://files.pythonhosted.org/packages/d2/ab/43e678759326f728de861edbef34b8e2ad1b1490505f20e0d1f0716c3bf4/numpy-1.17.4-cp36-cp36m-manylinux1_x86_64.whl (20.0MB)\n",
            "\u001b[K     |████████████████████████████████| 20.0MB 400kB/s \n",
            "\u001b[31mERROR: datascience 0.10.6 has requirement folium==0.2.1, but you'll have folium 0.8.3 which is incompatible.\u001b[0m\n",
            "\u001b[31mERROR: albumentations 0.1.12 has requirement imgaug<0.2.7,>=0.2.5, but you'll have imgaug 0.2.9 which is incompatible.\u001b[0m\n",
            "\u001b[?25hInstalling collected packages: numpy, torch\n",
            "  Found existing installation: numpy 1.17.3\n",
            "    Uninstalling numpy-1.17.3:\n",
            "      Successfully uninstalled numpy-1.17.3\n",
            "  Found existing installation: torch 1.3.1+cu100\n",
            "    Uninstalling torch-1.3.1+cu100:\n",
            "      Successfully uninstalled torch-1.3.1+cu100\n",
            "Successfully installed numpy-1.17.4 torch-1.3.1+cu100\n"
          ]
        }
      ],
      "source": [
        "!nvidia-smi\n",
        "# For some reason, the Torch that comes with Google Colab causes a notebook crash. Need to forcibly reinstall from PyPi.\n",
        "#!stat -c 'Torch already installed' torch_reinstalled || (pip install --force https://download.pytorch.org/whl/cu100/torch-1.3.1%2Bcu100-cp36-cp36m-linux_x86_64.whl && touch torch_reinstalled)\n",
        "!stat -c 'Repo already cloned' .git || git init\n",
        "!git pull https://github.com/sameer/vandy-weather/"
      ]
    },
    {
      "cell_type": "code",
      "execution_count": 0,
      "metadata": {
        "colab": {
          "base_uri": "https://localhost:8080/",
          "height": 540
        },
        "colab_type": "code",
        "id": "mIDxZQ4qGaVr",
        "outputId": "038c77ca-7cc5-484f-f231-765d86aaacd2"
      },
      "outputs": [
        {
          "name": "stdout",
          "output_type": "stream",
          "text": [
            "Loading data\n",
            "Processing data\n",
            "Failed to cast for id=928556: dewpoint NULL <class 'float'>\n",
            "Failed to cast for id=928575: dewpoint NULL <class 'float'>\n",
            "Failed to cast for id=928587: dewpoint NULL <class 'float'>\n",
            "Failed to cast for id=928631: dewpoint NULL <class 'float'>\n",
            "Failed to cast for id=1104679: wet_bulb_globe_temperature NULL <class 'float'>\n",
            "Failed to cast for id=1351854: wet_bulb_globe_temperature NULL <class 'float'>\n",
            "Failed to cast for id=1571353: time NULL <class 'datetime.datetime'>\n",
            "Failed to cast for id=1571390: time NULL <class 'datetime.datetime'>\n",
            "Failed to cast for id=1744525: wet_bulb_globe_temperature NULL <class 'float'>\n",
            "Failed to cast for id=1744530: dewpoint NULL <class 'float'>\n",
            "Failed to cast for id=1797652: wet_bulb_globe_temperature NULL <class 'float'>\n",
            "Failed to cast for id=1954284: wet_bulb_globe_temperature NULL <class 'float'>\n",
            "Failed to cast for id=1972191: dewpoint NULL <class 'float'>\n",
            "Failed to cast for id=1978824: uv_radiation NULL <class 'int'>\n",
            "Failed to cast for id=1982978: wet_bulb_globe_temperature NULL <class 'float'>\n",
            "Failed to cast for id=2006678: uv_radiation NULL <class 'int'>\n",
            "Failed to cast for id=2052265: wet_bulb_globe_temperature NULL <class 'float'>\n",
            "Failed to cast for id=2070260: dewpoint NULL <class 'float'>\n",
            "Failed to cast for id=2153057: dewpoint NULL <class 'float'>\n",
            "Failed to cast for id=2295075: wet_bulb_globe_temperature NULL <class 'float'>\n",
            "Failed to cast for id=2395467: wet_bulb_globe_temperature NULL <class 'float'>\n",
            "Failed to cast for id=2507245: dewpoint NULL <class 'float'>\n",
            "Failed to cast for id=2566871: wet_bulb_globe_temperature NULL <class 'float'>\n",
            "Failed to cast for id=2811654: wet_bulb_globe_temperature NULL <class 'float'>\n",
            "Saving pickle (compressing)\n"
          ]
        }
      ],
      "source": [
        "!python sanitize_data.py"
      ]
    },
    {
      "cell_type": "code",
      "execution_count": null,
      "metadata": {},
      "outputs": [],
      "source": [
        "!python main.py"
      ]
    }
  ]
}